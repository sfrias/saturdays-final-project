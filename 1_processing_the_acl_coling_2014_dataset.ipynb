{
 "cells": [
  {
   "cell_type": "code",
   "execution_count": 1,
   "metadata": {},
   "outputs": [],
   "source": [
    "import pandas as pd\n",
    "import xml.etree.ElementTree as et \n",
    "import glob, os"
   ]
  },
  {
   "cell_type": "code",
   "execution_count": 84,
   "metadata": {},
   "outputs": [
    {
     "data": {
      "text/html": [
       "<div>\n",
       "<style scoped>\n",
       "    .dataframe tbody tr th:only-of-type {\n",
       "        vertical-align: middle;\n",
       "    }\n",
       "\n",
       "    .dataframe tbody tr th {\n",
       "        vertical-align: top;\n",
       "    }\n",
       "\n",
       "    .dataframe thead th {\n",
       "        text-align: right;\n",
       "    }\n",
       "</style>\n",
       "<table border=\"1\" class=\"dataframe\">\n",
       "  <thead>\n",
       "    <tr style=\"text-align: right;\">\n",
       "      <th></th>\n",
       "      <th>website_url</th>\n",
       "      <th>modification_date</th>\n",
       "      <th>policy_url</th>\n",
       "      <th>website_category</th>\n",
       "      <th>website_index</th>\n",
       "      <th>policy</th>\n",
       "    </tr>\n",
       "  </thead>\n",
       "  <tbody>\n",
       "  </tbody>\n",
       "</table>\n",
       "</div>"
      ],
      "text/plain": [
       "Empty DataFrame\n",
       "Columns: [website_url, modification_date, policy_url, website_category, website_index, policy]\n",
       "Index: []"
      ]
     },
     "execution_count": 84,
     "metadata": {},
     "output_type": "execute_result"
    }
   ],
   "source": [
    "df_cols = [\"website_url\", \"modification_date\", \"policy_url\", \"website_category\", \"website_index\", \"policy\"]\n",
    "policies_df = pd.DataFrame(columns = df_cols)\n",
    "policies_df"
   ]
  },
  {
   "cell_type": "code",
   "execution_count": 85,
   "metadata": {},
   "outputs": [],
   "source": [
    "for policy in glob.glob(\"acl-coling-2014/*.xml\"):\n",
    "    xtree = et.parse(policy)\n",
    "    xroot = xtree.getroot()\n",
    "    policies_df = policies_df.append(pd.Series([\n",
    "        xroot.attrib[\"website_url\"],\n",
    "        xroot.attrib[\"modification_date\"], \n",
    "        xroot.attrib[\"policy_url\"], \n",
    "        xroot.attrib[\"website_category\"],\n",
    "        xroot.attrib[\"website_index\"],\n",
    "        et.tostring(xroot, encoding='utf8', method='text').decode(\"utf8\").replace('\\n', ' ')], \n",
    "     index = df_cols), \n",
    "     ignore_index = True)"
   ]
  },
  {
   "cell_type": "code",
   "execution_count": 101,
   "metadata": {},
   "outputs": [
    {
     "data": {
      "text/html": [
       "<div>\n",
       "<style scoped>\n",
       "    .dataframe tbody tr th:only-of-type {\n",
       "        vertical-align: middle;\n",
       "    }\n",
       "\n",
       "    .dataframe tbody tr th {\n",
       "        vertical-align: top;\n",
       "    }\n",
       "\n",
       "    .dataframe thead th {\n",
       "        text-align: right;\n",
       "    }\n",
       "</style>\n",
       "<table border=\"1\" class=\"dataframe\">\n",
       "  <thead>\n",
       "    <tr style=\"text-align: right;\">\n",
       "      <th></th>\n",
       "      <th>website_url</th>\n",
       "      <th>modification_date</th>\n",
       "      <th>policy_url</th>\n",
       "      <th>website_category</th>\n",
       "      <th>website_index</th>\n",
       "      <th>policy</th>\n",
       "    </tr>\n",
       "  </thead>\n",
       "  <tbody>\n",
       "    <tr>\n",
       "      <th>0</th>\n",
       "      <td>google.co.nz</td>\n",
       "      <td>December 20, 2013</td>\n",
       "      <td>https://www.google.co.nz/intl/en/policies/priv...</td>\n",
       "      <td>Regional</td>\n",
       "      <td>096</td>\n",
       "      <td>Privacy Policy  Last mo...</td>\n",
       "    </tr>\n",
       "    <tr>\n",
       "      <th>1</th>\n",
       "      <td>ibnlive.in.com</td>\n",
       "      <td></td>\n",
       "      <td>http://ibnlive.in.com/policy.php</td>\n",
       "      <td>Regional</td>\n",
       "      <td>078</td>\n",
       "      <td>Privacy Policy IBN7IBN7...</td>\n",
       "    </tr>\n",
       "    <tr>\n",
       "      <th>2</th>\n",
       "      <td>gocomics.com</td>\n",
       "      <td>May 15, 2009</td>\n",
       "      <td>http://www.gocomics.com/help/privacy</td>\n",
       "      <td>Kids_and_Teens</td>\n",
       "      <td>050</td>\n",
       "      <td>Privacy Policy  At Univ...</td>\n",
       "    </tr>\n",
       "  </tbody>\n",
       "</table>\n",
       "</div>"
      ],
      "text/plain": [
       "      website_url  modification_date  \\\n",
       "0    google.co.nz  December 20, 2013   \n",
       "1  ibnlive.in.com                      \n",
       "2    gocomics.com       May 15, 2009   \n",
       "\n",
       "                                          policy_url website_category  \\\n",
       "0  https://www.google.co.nz/intl/en/policies/priv...         Regional   \n",
       "1                   http://ibnlive.in.com/policy.php         Regional   \n",
       "2               http://www.gocomics.com/help/privacy   Kids_and_Teens   \n",
       "\n",
       "  website_index                                             policy  \n",
       "0           096                         Privacy Policy  Last mo...  \n",
       "1           078                         Privacy Policy IBN7IBN7...  \n",
       "2           050                         Privacy Policy  At Univ...  "
      ]
     },
     "execution_count": 101,
     "metadata": {},
     "output_type": "execute_result"
    }
   ],
   "source": [
    "policies_df[:3]"
   ]
  },
  {
   "cell_type": "code",
   "execution_count": 100,
   "metadata": {},
   "outputs": [],
   "source": [
    "policies_df.to_pickle(\"acl-coling-2014.pkl\")"
   ]
  }
 ],
 "metadata": {
  "kernelspec": {
   "display_name": "Python 3",
   "language": "python",
   "name": "python3"
  },
  "language_info": {
   "codemirror_mode": {
    "name": "ipython",
    "version": 3
   },
   "file_extension": ".py",
   "mimetype": "text/x-python",
   "name": "python",
   "nbconvert_exporter": "python",
   "pygments_lexer": "ipython3",
   "version": "3.7.2"
  }
 },
 "nbformat": 4,
 "nbformat_minor": 2
}
