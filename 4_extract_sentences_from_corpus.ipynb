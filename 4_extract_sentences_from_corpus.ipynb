{
 "cells": [
  {
   "cell_type": "markdown",
   "metadata": {},
   "source": [
    "# Tokenize privacy policies into a sentences corpus\n",
    "\n",
    "We'll use NLTK's [`sent_tokenize`](https://www.nltk.org/api/nltk.tokenize.html) to split our privacy policies corpus into a sentences corpus to feed our crowdsourced labeling tool."
   ]
  },
  {
   "cell_type": "code",
   "execution_count": 17,
   "metadata": {},
   "outputs": [
    {
     "name": "stderr",
     "output_type": "stream",
     "text": [
      "[nltk_data] Downloading package punkt to /Users/javi/nltk_data...\n",
      "[nltk_data]   Package punkt is already up-to-date!\n"
     ]
    },
    {
     "data": {
      "text/plain": [
       "True"
      ]
     },
     "execution_count": 17,
     "metadata": {},
     "output_type": "execute_result"
    }
   ],
   "source": [
    "import nltk\n",
    "nltk.download('punkt')"
   ]
  },
  {
   "cell_type": "code",
   "execution_count": 2,
   "metadata": {},
   "outputs": [],
   "source": [
    "import pandas as pd\n",
    "from nltk.tokenize import sent_tokenize"
   ]
  },
  {
   "cell_type": "code",
   "execution_count": 19,
   "metadata": {},
   "outputs": [],
   "source": [
    "policies_corpus = pd.read_pickle(\"data/1360_privacy_policies.pkl\")"
   ]
  },
  {
   "cell_type": "markdown",
   "metadata": {},
   "source": [
    "## Try with just a privacy policy first\n",
    "\n",
    "Let's just try with the first privacy policy and see what we get."
   ]
  },
  {
   "cell_type": "code",
   "execution_count": 20,
   "metadata": {},
   "outputs": [
    {
     "data": {
      "text/html": [
       "<div>\n",
       "<style scoped>\n",
       "    .dataframe tbody tr th:only-of-type {\n",
       "        vertical-align: middle;\n",
       "    }\n",
       "\n",
       "    .dataframe tbody tr th {\n",
       "        vertical-align: top;\n",
       "    }\n",
       "\n",
       "    .dataframe thead th {\n",
       "        text-align: right;\n",
       "    }\n",
       "</style>\n",
       "<table border=\"1\" class=\"dataframe\">\n",
       "  <thead>\n",
       "    <tr style=\"text-align: right;\">\n",
       "      <th></th>\n",
       "      <th>name</th>\n",
       "      <th>policy</th>\n",
       "    </tr>\n",
       "  </thead>\n",
       "  <tbody>\n",
       "    <tr>\n",
       "      <th>0</th>\n",
       "      <td>google.co.nz</td>\n",
       "      <td>Privacy Policy  Last mo...</td>\n",
       "    </tr>\n",
       "    <tr>\n",
       "      <th>1</th>\n",
       "      <td>ibnlive.in.com</td>\n",
       "      <td>Privacy Policy IBN7IBN7...</td>\n",
       "    </tr>\n",
       "    <tr>\n",
       "      <th>2</th>\n",
       "      <td>gocomics.com</td>\n",
       "      <td>Privacy Policy  At Univ...</td>\n",
       "    </tr>\n",
       "    <tr>\n",
       "      <th>3</th>\n",
       "      <td>petsmart.com</td>\n",
       "      <td>This document provides ...</td>\n",
       "    </tr>\n",
       "    <tr>\n",
       "      <th>4</th>\n",
       "      <td>duolingo.com</td>\n",
       "      <td>Privacy Policy         ...</td>\n",
       "    </tr>\n",
       "    <tr>\n",
       "      <th>5</th>\n",
       "      <td>usda.gov</td>\n",
       "      <td>Privacy Policy   Thank ...</td>\n",
       "    </tr>\n",
       "    <tr>\n",
       "      <th>6</th>\n",
       "      <td>fcbarcelona.com</td>\n",
       "      <td>PRIVACY POLICY. PROTECT...</td>\n",
       "    </tr>\n",
       "    <tr>\n",
       "      <th>7</th>\n",
       "      <td>zara.com</td>\n",
       "      <td>Zara´s Privacy Statemen...</td>\n",
       "    </tr>\n",
       "    <tr>\n",
       "      <th>8</th>\n",
       "      <td>infowars.com</td>\n",
       "      <td>Infowars LLC, Terms of ...</td>\n",
       "    </tr>\n",
       "    <tr>\n",
       "      <th>9</th>\n",
       "      <td>change.org</td>\n",
       "      <td>Privacy Policy About Te...</td>\n",
       "    </tr>\n",
       "  </tbody>\n",
       "</table>\n",
       "</div>"
      ],
      "text/plain": [
       "              name                                             policy\n",
       "0     google.co.nz                         Privacy Policy  Last mo...\n",
       "1   ibnlive.in.com                         Privacy Policy IBN7IBN7...\n",
       "2     gocomics.com                         Privacy Policy  At Univ...\n",
       "3     petsmart.com                         This document provides ...\n",
       "4     duolingo.com                         Privacy Policy         ...\n",
       "5         usda.gov                         Privacy Policy   Thank ...\n",
       "6  fcbarcelona.com                         PRIVACY POLICY. PROTECT...\n",
       "7         zara.com                         Zara´s Privacy Statemen...\n",
       "8     infowars.com                         Infowars LLC, Terms of ...\n",
       "9       change.org                         Privacy Policy About Te..."
      ]
     },
     "execution_count": 20,
     "metadata": {},
     "output_type": "execute_result"
    }
   ],
   "source": [
    "policies_corpus[:10]"
   ]
  },
  {
   "cell_type": "code",
   "execution_count": 21,
   "metadata": {},
   "outputs": [],
   "source": [
    "first_policy = policies_corpus.iloc[0]"
   ]
  },
  {
   "cell_type": "code",
   "execution_count": 22,
   "metadata": {},
   "outputs": [],
   "source": [
    "policy_sentences = sent_tokenize(first_policy.policy)"
   ]
  },
  {
   "cell_type": "code",
   "execution_count": 23,
   "metadata": {},
   "outputs": [
    {
     "data": {
      "text/plain": [
       "['                       Privacy Policy  Last modified: December 20, 2013 (view archived versions)  There are many different ways you can use our services – to search for and share information, to communicate with other people or to create new content.',\n",
       " 'When you share information with us, for example by creating a Google Account, we can make those services even better – to show you more relevant search results and ads, to help you connect with people or to make sharing with others quicker and easier.',\n",
       " \"As you use our services, we want you to be clear how we're using information and the ways in which you can protect your privacy.\",\n",
       " 'Our Privacy Policy explains:  What information we collect and why we collect it.',\n",
       " 'How we use that information.',\n",
       " 'The choices we offer, including how to access and update information.',\n",
       " \"We've tried to keep it as simple as possible, but if you're not familiar with terms like cookies, IP addresses, pixel tags and browsers, then read about these key terms first.\",\n",
       " 'Your privacy matters to Google so whether you are new to Google or a long-time user, please do take the time to get to know our practices – and if you have any questions consult this page.',\n",
       " \"Information we collect         We collect information to provide better services to all of our users – from figuring out basic stuff like which language you speak, to more complex things like which ads you'll find most useful or the people who matter most to you online.\",\n",
       " 'We collect information in two ways:  Information you give us.',\n",
       " 'For example, many of our services require you to sign up for a Google Account.',\n",
       " \"When you do, we'll ask for personal information, like your name, email address, telephone number or credit card.\",\n",
       " 'If you want to take full advantage of the sharing features we offer, we might also ask you to create a publicly visible Google Profile, which may include your name and photo.',\n",
       " 'Information we get from your use of our services.',\n",
       " 'We may collect information about the services that you use and how you use them, like when you visit a website that uses our advertising services or you view and interact with our ads and content.',\n",
       " 'This information includes:  Device information  We may collect device-specific information (such as your hardware model, operating system version, unique device identifiers, and mobile network information including phone number).',\n",
       " 'Google may associate your device identifiers or phone number with your Google Account.',\n",
       " 'Log information  When you use our services or view content provided by Google, we may automatically collect and store certain information in server logs.',\n",
       " 'This may include: details of how you used our service, such as your search queries.',\n",
       " 'telephony log information like your phone number, calling-party number, forwarding numbers, time and date of calls, duration of calls, SMS routing information and types of calls.',\n",
       " 'Internet protocol address.',\n",
       " 'device event information such as crashes, system activity, hardware settings, browser type, browser language, the date and time of your request and referral URL.',\n",
       " 'cookies that may uniquely identify your browser or your Google Account.',\n",
       " 'Location information  When you use a location-enabled Google service, we may collect and process information about your actual location, like GPS signals sent by a mobile device.',\n",
       " 'We may also use various technologies to determine location, such as sensor data from your device that may, for example, provide information on nearby Wi-Fi access points and cell towers.',\n",
       " 'Unique application numbers  Certain services include a unique application number.',\n",
       " 'This number and information about your installation (for example, the operating system type and application version number) may be sent to Google when you install or uninstall that service or when that service periodically contacts our servers, such as for automatic updates.',\n",
       " 'Local storage  We may collect and store information (including personal information) locally on your device using mechanisms such as browser web storage (including HTML 5) and application data caches.',\n",
       " 'Cookies and anonymous identifiers  We use various technologies to collect and store information when you visit a Google service, and this may include sending one or more cookies or anonymous identifiers to your device.',\n",
       " 'We also use cookies and anonymous identifiers when you interact with services we offer to our partners, such as advertising services or Google features that may appear on other sites.',\n",
       " 'How we use information we collect         We use the information we collect from all of our services to provide, maintain, protect and improve them, to develop new ones, and to protect Google and our users.',\n",
       " 'We also use this information to offer you tailored content – like giving you more relevant search results and ads.',\n",
       " 'We may use the name you provide for your Google Profile across all of the services we offer that require a Google Account.',\n",
       " 'In addition, we may replace past names associated with your Google Account so that you are represented consistently across all our services.',\n",
       " 'If other users already have your email, or other information that identifies you, we may show them your publicly visible Google Profile information, such as your name and photo.',\n",
       " 'When you contact Google, we may keep a record of your communication to help solve any issues you might be facing.',\n",
       " 'We may use your email address to inform you about our services, such as letting you know about upcoming changes or improvements.',\n",
       " 'We use information collected from cookies and other technologies, like pixel tags, to improve your user experience and the overall quality of our services.',\n",
       " \"For example, by saving your language preferences, we'll be able to have our services appear in the language you prefer.\",\n",
       " 'When showing you tailored ads, we will not associate a cookie or anonymous identifier with sensitive categories, such as those based on race, religion, sexual orientation or health.',\n",
       " 'We may combine personal information from one service with information, including personal information, from other Google services – for example to make it easier to share things with people you know.',\n",
       " 'We will not combine DoubleClick cookie information with personally identifiable information unless we have your opt-in consent.',\n",
       " 'We will ask for your consent before using information for a purpose other than those that are set out in this Privacy Policy.',\n",
       " 'Google processes personal information on our servers in many countries around the world.',\n",
       " 'We may process your personal information on a server located outside the country where you live.',\n",
       " 'Transparency and choice         People have different privacy concerns.',\n",
       " 'Our goal is to be clear about what information we collect, so that you can make meaningful choices about how it is used.',\n",
       " 'For example, you can:  Review and control certain types of information tied to your Google Account by using Google Dashboard.',\n",
       " 'View and edit your preferences about the ads shown to you on Google and across the web, such as which categories might interest you, using Ads Settings.',\n",
       " 'You can also opt out of certain Google advertising services here.',\n",
       " 'Use our editor to see and adjust how your Google Profile appears to particular individuals.',\n",
       " 'Control who you share information with.',\n",
       " 'Take information out of many of our services.',\n",
       " 'You may also set your browser to block all cookies, including cookies associated with our services, or to indicate when a cookie is being set by us.',\n",
       " \"However, it's important to remember that many of our services may not function properly if your cookies are disabled.\",\n",
       " 'For example, we may not remember your language preferences.',\n",
       " 'Information you share         Many of our services let you share information with others.',\n",
       " 'Remember that when you share information publicly, it may be indexable by search engines, including Google.',\n",
       " 'Our services provide you with different options on sharing and removing your content.',\n",
       " 'Accessing and updating your personal information         Whenever you use our services, we aim to provide you with access to your personal information.',\n",
       " 'If that information is wrong, we strive to give you ways to update it quickly or to delete it – unless we have to keep that information for legitimate business or legal purposes.',\n",
       " 'When updating your personal information, we may ask you to verify your identity before we can act on your request.',\n",
       " 'We may reject requests that are unreasonably repetitive, require disproportionate technical effort (for example, developing a new system or fundamentally changing an existing practice), risk the privacy of others, or would be extremely impractical (for instance, requests concerning information residing on backup systems).',\n",
       " 'Where we can provide information access and correction, we will do so for free, except where it would require a disproportionate effort.',\n",
       " 'We aim to maintain our services in a manner that protects information from accidental or malicious destruction.',\n",
       " 'Because of this, after you delete information from our services, we may not immediately delete residual copies from our active servers and may not remove information from our backup systems.',\n",
       " 'Information we share         We do not share personal information with companies, organizations and individuals outside of Google unless one of the following circumstances applies:  With your consent  We will share personal information with companies, organizations or individuals outside of Google when we have your consent to do so.',\n",
       " 'We require opt-in consent for the sharing of any sensitive personal information.',\n",
       " 'With domain administrators  If your Google Account is managed for you by a domain administrator (for example, for Google Apps users) then your domain administrator and resellers who provide user support to your organization will have access to your Google Account information (including your email and other data).',\n",
       " 'Your domain administrator may be able to: view statistics regarding your account, like statistics regarding applications you install.',\n",
       " 'change your account password.',\n",
       " 'suspend or terminate your account access.',\n",
       " 'access or retain information stored as part of your account.',\n",
       " 'receive your account information in order to satisfy applicable law, regulation, legal process or enforceable governmental request.',\n",
       " 'restrict your ability to delete or edit information or privacy settings.',\n",
       " \"Please refer to your domain administrator's privacy policy for more information.\",\n",
       " 'For external processing  We provide personal information to our affiliates or other trusted businesses or persons to process it for us, based on our instructions and in compliance with our Privacy Policy and any other appropriate confidentiality and security measures.',\n",
       " 'For legal reasons  We will share personal information with companies, organizations or individuals outside of Google if we have a good-faith belief that access, use, preservation or disclosure of the information is reasonably necessary to: meet any applicable law, regulation, legal process or enforceable governmental request.',\n",
       " 'enforce applicable Terms of Service, including investigation of potential violations.',\n",
       " 'detect, prevent, or otherwise address fraud, security or technical issues.',\n",
       " 'protect against harm to the rights, property or safety of Google, our users or the public as required or permitted by law.',\n",
       " 'We may share aggregated, non-personally identifiable information publicly and with our partners – like publishers, advertisers or connected sites.',\n",
       " 'For example, we may share information publicly to show trends about the general use of our services.',\n",
       " 'If Google is involved in a merger, acquisition or asset sale, we will continue to ensure the confidentiality of any personal information and give affected users notice before personal information is transferred or becomes subject to a different privacy policy.',\n",
       " 'Information security         We work hard to protect Google and our users from unauthorized access to or unauthorized alteration, disclosure or destruction of information we hold.',\n",
       " 'In particular:  We encrypt many of our services using SSL.',\n",
       " 'We offer you two step verification when you access your Google Account, and a Safe Browsing feature in Google Chrome.',\n",
       " 'We review our information collection, storage and processing practices, including physical security measures, to guard against unauthorized access to systems.',\n",
       " 'We restrict access to personal information to Google employees, contractors and agents who need to know that information in order to process it for us, and who are subject to strict contractual confidentiality obligations and may be disciplined or terminated if they fail to meet these obligations.',\n",
       " 'Application         Our Privacy Policy applies to all of the services offered by Google Inc. and its affiliates, including services offered on other sites (such as our advertising services), but excludes services that have separate privacy policies that do not incorporate this Privacy Policy.',\n",
       " 'Our Privacy Policy does not apply to services offered by other companies or individuals, including products or sites that may be displayed to you in search results, sites that may include Google services, or other sites linked from our services.',\n",
       " 'Our Privacy Policy does not cover the information practices of other companies and organizations who advertise our services, and who may use cookies, pixel tags and other technologies to serve and offer relevant ads.',\n",
       " 'Enforcement         We regularly review our compliance with our Privacy Policy.',\n",
       " 'We also adhere to several self regulatory frameworks.',\n",
       " 'When we receive formal written complaints, we will contact the person who made the complaint to follow up.',\n",
       " 'We work with the appropriate regulatory authorities, including local data protection authorities, to resolve any complaints regarding the transfer of personal data that we cannot resolve with our users directly.',\n",
       " 'Changes         Our Privacy Policy may change from time to time.',\n",
       " 'We will not reduce your rights under this Privacy Policy without your explicit consent.',\n",
       " 'We will post any privacy policy changes on this page and, if the changes are significant, we will provide a more prominent notice (including, for certain services, email notification of privacy policy changes).',\n",
       " 'We will also keep prior versions of this Privacy Policy in an archive for your review.',\n",
       " 'Specific product practices         The following notices explain specific privacy practices with respect to certain Google products and services that you may use:  Chrome and Chrome OS Books Wallet Fiber']"
      ]
     },
     "execution_count": 23,
     "metadata": {},
     "output_type": "execute_result"
    }
   ],
   "source": [
    "policy_sentences"
   ]
  },
  {
   "cell_type": "code",
   "execution_count": 24,
   "metadata": {},
   "outputs": [
    {
     "data": {
      "text/plain": [
       "'                       Privacy Policy  Last modified: December 20, 2013 (view archived versions)  There are many different ways you can use our services – to search for and share information, to communicate with other people or to create new content.'"
      ]
     },
     "execution_count": 24,
     "metadata": {},
     "output_type": "execute_result"
    }
   ],
   "source": [
    "policy_sentences[0]"
   ]
  },
  {
   "cell_type": "markdown",
   "metadata": {},
   "source": [
    "## Tokenize the whole policies dataset\n",
    "\n",
    "Now let's apply those NLTK and tokenization learnings to the whole privacies dataset and generate our sentences corpus."
   ]
  },
  {
   "cell_type": "code",
   "execution_count": 25,
   "metadata": {},
   "outputs": [
    {
     "data": {
      "text/html": [
       "<div>\n",
       "<style scoped>\n",
       "    .dataframe tbody tr th:only-of-type {\n",
       "        vertical-align: middle;\n",
       "    }\n",
       "\n",
       "    .dataframe tbody tr th {\n",
       "        vertical-align: top;\n",
       "    }\n",
       "\n",
       "    .dataframe thead th {\n",
       "        text-align: right;\n",
       "    }\n",
       "</style>\n",
       "<table border=\"1\" class=\"dataframe\">\n",
       "  <thead>\n",
       "    <tr style=\"text-align: right;\">\n",
       "      <th></th>\n",
       "      <th>policy_id</th>\n",
       "      <th>text</th>\n",
       "    </tr>\n",
       "  </thead>\n",
       "  <tbody>\n",
       "  </tbody>\n",
       "</table>\n",
       "</div>"
      ],
      "text/plain": [
       "Empty DataFrame\n",
       "Columns: [policy_id, text]\n",
       "Index: []"
      ]
     },
     "execution_count": 25,
     "metadata": {},
     "output_type": "execute_result"
    }
   ],
   "source": [
    "sentences_cols = [\"policy_id\", \"text\"]\n",
    "sentences_corpus = pd.DataFrame(columns = sentences_cols)\n",
    "sentences_corpus"
   ]
  },
  {
   "cell_type": "code",
   "execution_count": 26,
   "metadata": {},
   "outputs": [],
   "source": [
    "for policy_index, row in policies_corpus.iterrows():\n",
    "    print(\"Tokenizing policy number: \", policy_index, row['name'])\n",
    "    tokenized_privacy_policy = sent_tokenize(row['policy'])\n",
    "    for sentence in tokenized_privacy_policy:\n",
    "        sentences_corpus = sentences_corpus.append(pd.Series([\n",
    "            policy_index,\n",
    "            sentence\n",
    "            ],\n",
    "            index = sentences_cols), \n",
    "         ignore_index = True)"
   ]
  },
  {
   "cell_type": "code",
   "execution_count": 30,
   "metadata": {},
   "outputs": [
    {
     "data": {
      "text/html": [
       "<div>\n",
       "<style scoped>\n",
       "    .dataframe tbody tr th:only-of-type {\n",
       "        vertical-align: middle;\n",
       "    }\n",
       "\n",
       "    .dataframe tbody tr th {\n",
       "        vertical-align: top;\n",
       "    }\n",
       "\n",
       "    .dataframe thead th {\n",
       "        text-align: right;\n",
       "    }\n",
       "</style>\n",
       "<table border=\"1\" class=\"dataframe\">\n",
       "  <thead>\n",
       "    <tr style=\"text-align: right;\">\n",
       "      <th></th>\n",
       "      <th>policy_id</th>\n",
       "      <th>text</th>\n",
       "    </tr>\n",
       "  </thead>\n",
       "  <tbody>\n",
       "    <tr>\n",
       "      <th>count</th>\n",
       "      <td>115813</td>\n",
       "      <td>115813</td>\n",
       "    </tr>\n",
       "    <tr>\n",
       "      <th>unique</th>\n",
       "      <td>1360</td>\n",
       "      <td>97837</td>\n",
       "    </tr>\n",
       "    <tr>\n",
       "      <th>top</th>\n",
       "      <td>474</td>\n",
       "      <td>2.</td>\n",
       "    </tr>\n",
       "    <tr>\n",
       "      <th>freq</th>\n",
       "      <td>936</td>\n",
       "      <td>102</td>\n",
       "    </tr>\n",
       "  </tbody>\n",
       "</table>\n",
       "</div>"
      ],
      "text/plain": [
       "        policy_id    text\n",
       "count      115813  115813\n",
       "unique       1360   97837\n",
       "top           474      2.\n",
       "freq          936     102"
      ]
     },
     "execution_count": 30,
     "metadata": {},
     "output_type": "execute_result"
    }
   ],
   "source": [
    "sentences_corpus.describe()"
   ]
  },
  {
   "cell_type": "code",
   "execution_count": 32,
   "metadata": {},
   "outputs": [],
   "source": [
    "sentences_corpus.to_pickle(\"data/sentences_corpus.pkl\")"
   ]
  },
  {
   "cell_type": "code",
   "execution_count": 3,
   "metadata": {},
   "outputs": [],
   "source": [
    "sentences_corpus = pd.read_pickle(\"data/sentences_corpus.pkl\")"
   ]
  },
  {
   "cell_type": "code",
   "execution_count": 4,
   "metadata": {},
   "outputs": [],
   "source": [
    "sentences_corpus.to_csv(\"data/sentences_corpus.csv\")"
   ]
  },
  {
   "cell_type": "code",
   "execution_count": null,
   "metadata": {},
   "outputs": [],
   "source": []
  }
 ],
 "metadata": {
  "kernelspec": {
   "display_name": "Python 3",
   "language": "python",
   "name": "python3"
  },
  "language_info": {
   "codemirror_mode": {
    "name": "ipython",
    "version": 3
   },
   "file_extension": ".py",
   "mimetype": "text/x-python",
   "name": "python",
   "nbconvert_exporter": "python",
   "pygments_lexer": "ipython3",
   "version": "3.7.2"
  }
 },
 "nbformat": 4,
 "nbformat_minor": 2
}
