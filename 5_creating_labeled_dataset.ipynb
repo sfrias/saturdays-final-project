{
 "cells": [
  {
   "cell_type": "markdown",
   "metadata": {},
   "source": [
    "# Creating the labeled dataset\n",
    "\n",
    "Let's now gather our votes from the labeling tool and transform that into a labeled dataset consisting of privacy practices (sentences) and a class. We wanna end up having something like:\n",
    "\n",
    "| id | sentence                                                                                                                                     | label          |\n",
    "|----|----------------------------------------------------------------------------------------------------------------------------------------------|----------------|\n",
    "| 1  | You should be aware that resumes may be monitored by your current employer                                                                   | very_dangerous |\n",
    "| 2  | If you have sent or posted content on the Service, We may not be able to delete it.                                                          | dangerous      |\n",
    "| 3  | We will only provide those companies the information they need to deliver the service.                                                       | neutral        |\n",
    "| 4  | The personal information we have access to varies by website and is controlled by your privacy settings on that website and by your consent. | friendly       |\n",
    "| 5  | We are committed to protecting your personal information and maintaining your trust.                                                         | very_friendly  |\n",
    "\n",
    "With labels:\n",
    "```\n",
    "0: very_friendly\n",
    "1: friendly\n",
    "2: neutral\n",
    "3: dangerous\n",
    "4: very_dangerous\n",
    "```"
   ]
  },
  {
   "cell_type": "markdown",
   "metadata": {},
   "source": [
    "## Getting our votes from the server\n",
    "\n",
    "We're using a Rails server for the labeling tool.\n",
    "\n",
    "So, just log in to the server, do `rails c` and then:\n",
    "\n",
    "```\n",
    "f = File.new(\"votes.csv\", \"w\")\n",
    "f << Vote.all.to_csv\n",
    "f.close\n",
    "```\n",
    "\n",
    "And then, to copy the file from the remote server, we use `scp`:\n",
    "\n",
    "`scp rails@146.185.142.138:/home/rails/apps/ethicalprivacy/current/votes.csv ~/GitHub/guard/data`"
   ]
  },
  {
   "cell_type": "code",
   "execution_count": 72,
   "metadata": {},
   "outputs": [],
   "source": [
    "%matplotlib inline\n",
    "\n",
    "import pandas as pd\n",
    "import numpy as np\n",
    "import matplotlib.pyplot as plt\n",
    "\n",
    "from sklearn import preprocessing"
   ]
  },
  {
   "cell_type": "code",
   "execution_count": 2,
   "metadata": {},
   "outputs": [],
   "source": [
    "votes = pd.read_csv(\"data/votes.csv\")"
   ]
  },
  {
   "cell_type": "code",
   "execution_count": 3,
   "metadata": {},
   "outputs": [
    {
     "data": {
      "text/html": [
       "<div>\n",
       "<style scoped>\n",
       "    .dataframe tbody tr th:only-of-type {\n",
       "        vertical-align: middle;\n",
       "    }\n",
       "\n",
       "    .dataframe tbody tr th {\n",
       "        vertical-align: top;\n",
       "    }\n",
       "\n",
       "    .dataframe thead th {\n",
       "        text-align: right;\n",
       "    }\n",
       "</style>\n",
       "<table border=\"1\" class=\"dataframe\">\n",
       "  <thead>\n",
       "    <tr style=\"text-align: right;\">\n",
       "      <th></th>\n",
       "      <th>id</th>\n",
       "      <th>sentence_1</th>\n",
       "      <th>sentence_2</th>\n",
       "      <th>winner_sentence</th>\n",
       "      <th>user_id</th>\n",
       "      <th>created_at</th>\n",
       "      <th>updated_at</th>\n",
       "    </tr>\n",
       "  </thead>\n",
       "  <tbody>\n",
       "    <tr>\n",
       "      <th>0</th>\n",
       "      <td>1</td>\n",
       "      <td>13991</td>\n",
       "      <td>47721</td>\n",
       "      <td>47721</td>\n",
       "      <td>NaN</td>\n",
       "      <td>2019-05-04 13:15:57 UTC</td>\n",
       "      <td>2019-05-04 13:15:57 UTC</td>\n",
       "    </tr>\n",
       "    <tr>\n",
       "      <th>1</th>\n",
       "      <td>2</td>\n",
       "      <td>59638</td>\n",
       "      <td>82254</td>\n",
       "      <td>59638</td>\n",
       "      <td>NaN</td>\n",
       "      <td>2019-05-04 13:16:44 UTC</td>\n",
       "      <td>2019-05-04 13:16:44 UTC</td>\n",
       "    </tr>\n",
       "    <tr>\n",
       "      <th>2</th>\n",
       "      <td>3</td>\n",
       "      <td>61907</td>\n",
       "      <td>86793</td>\n",
       "      <td>61907</td>\n",
       "      <td>NaN</td>\n",
       "      <td>2019-05-04 14:36:51 UTC</td>\n",
       "      <td>2019-05-04 14:36:51 UTC</td>\n",
       "    </tr>\n",
       "  </tbody>\n",
       "</table>\n",
       "</div>"
      ],
      "text/plain": [
       "   id  sentence_1  sentence_2  winner_sentence  user_id  \\\n",
       "0   1       13991       47721            47721      NaN   \n",
       "1   2       59638       82254            59638      NaN   \n",
       "2   3       61907       86793            61907      NaN   \n",
       "\n",
       "                created_at               updated_at  \n",
       "0  2019-05-04 13:15:57 UTC  2019-05-04 13:15:57 UTC  \n",
       "1  2019-05-04 13:16:44 UTC  2019-05-04 13:16:44 UTC  \n",
       "2  2019-05-04 14:36:51 UTC  2019-05-04 14:36:51 UTC  "
      ]
     },
     "execution_count": 3,
     "metadata": {},
     "output_type": "execute_result"
    }
   ],
   "source": [
    "votes[:3]"
   ]
  },
  {
   "cell_type": "markdown",
   "metadata": {},
   "source": [
    "## Importing the rest of the data\n",
    "\n",
    "We're also gonna need our sentences dataset to a) build our confrontation matrix and b) know which sentences IDs in our votes dataset correspond to which sentences."
   ]
  },
  {
   "cell_type": "code",
   "execution_count": 4,
   "metadata": {},
   "outputs": [],
   "source": [
    "sentences = pd.read_csv(\"data/sentences_corpus.csv\", index_col=0)"
   ]
  },
  {
   "cell_type": "code",
   "execution_count": 5,
   "metadata": {},
   "outputs": [
    {
     "data": {
      "text/html": [
       "<div>\n",
       "<style scoped>\n",
       "    .dataframe tbody tr th:only-of-type {\n",
       "        vertical-align: middle;\n",
       "    }\n",
       "\n",
       "    .dataframe tbody tr th {\n",
       "        vertical-align: top;\n",
       "    }\n",
       "\n",
       "    .dataframe thead th {\n",
       "        text-align: right;\n",
       "    }\n",
       "</style>\n",
       "<table border=\"1\" class=\"dataframe\">\n",
       "  <thead>\n",
       "    <tr style=\"text-align: right;\">\n",
       "      <th></th>\n",
       "      <th>policy_id</th>\n",
       "      <th>text</th>\n",
       "    </tr>\n",
       "  </thead>\n",
       "  <tbody>\n",
       "    <tr>\n",
       "      <th>0</th>\n",
       "      <td>0</td>\n",
       "      <td>Privacy Policy  Last mo...</td>\n",
       "    </tr>\n",
       "    <tr>\n",
       "      <th>1</th>\n",
       "      <td>0</td>\n",
       "      <td>When you share information with us, for exampl...</td>\n",
       "    </tr>\n",
       "    <tr>\n",
       "      <th>2</th>\n",
       "      <td>0</td>\n",
       "      <td>As you use our services, we want you to be cle...</td>\n",
       "    </tr>\n",
       "  </tbody>\n",
       "</table>\n",
       "</div>"
      ],
      "text/plain": [
       "   policy_id                                               text\n",
       "0          0                         Privacy Policy  Last mo...\n",
       "1          0  When you share information with us, for exampl...\n",
       "2          0  As you use our services, we want you to be cle..."
      ]
     },
     "execution_count": 5,
     "metadata": {},
     "output_type": "execute_result"
    }
   ],
   "source": [
    "sentences[:3]"
   ]
  },
  {
   "cell_type": "markdown",
   "metadata": {},
   "source": [
    "## Building the confrontation matrix \n",
    "\n",
    "So we know there are `len(sentences)` sentences in our dataset. And thus, we need to build a matrix of such dimensions"
   ]
  },
  {
   "cell_type": "code",
   "execution_count": 6,
   "metadata": {},
   "outputs": [],
   "source": [
    "conf_matrix = np.zeros([len(sentences),len(sentences)])"
   ]
  },
  {
   "cell_type": "code",
   "execution_count": 7,
   "metadata": {},
   "outputs": [
    {
     "data": {
      "text/plain": [
       "(115813, 115813)"
      ]
     },
     "execution_count": 7,
     "metadata": {},
     "output_type": "execute_result"
    }
   ],
   "source": [
    "conf_matrix.shape"
   ]
  },
  {
   "cell_type": "code",
   "execution_count": 8,
   "metadata": {},
   "outputs": [
    {
     "data": {
      "text/plain": [
       "0.0"
      ]
     },
     "execution_count": 8,
     "metadata": {},
     "output_type": "execute_result"
    }
   ],
   "source": [
    "conf_matrix[1234][1234]"
   ]
  },
  {
   "cell_type": "markdown",
   "metadata": {},
   "source": [
    "Now our strategy is gonna be: go vote by vote and access the position `[sentence_1 - 1, sentence_2 -1]` (note the `-1` because the `Vote` model exported from Rails starts counting `Sentences` at 1 and not at 0 like Pandas, so we need to account for that).\n",
    "\n",
    "For each accessed position, if the winner is `sentence_1`, add a 1. If not, substract 1."
   ]
  },
  {
   "cell_type": "code",
   "execution_count": 9,
   "metadata": {},
   "outputs": [],
   "source": [
    "for index, row in votes.iterrows():\n",
    "    row_pos = int(row['sentence_1']) - 1\n",
    "    col_pos = int(row['sentence_2']) -1\n",
    "    matrix_position = conf_matrix[row_pos][col_pos]\n",
    "    if(row['winner_sentence'] == row['sentence_1']):\n",
    "        matrix_position += 1\n",
    "    else:\n",
    "        matrix_position -= 1\n",
    "    # Now just save to the \"db\", our confrontation matrix\n",
    "    conf_matrix[row_pos][col_pos] = matrix_position"
   ]
  },
  {
   "cell_type": "code",
   "execution_count": 10,
   "metadata": {},
   "outputs": [
    {
     "data": {
      "text/plain": [
       "-1.0"
      ]
     },
     "execution_count": 10,
     "metadata": {},
     "output_type": "execute_result"
    }
   ],
   "source": [
    "conf_matrix[13990][47720]"
   ]
  },
  {
   "cell_type": "markdown",
   "metadata": {},
   "source": [
    "## From confrontation matrix to absolute scores\n",
    "\n",
    "Now we have our confrontation matrix ready. Let's compute the net score for each sentence (i.e.: let's calculate the sum per row)\n",
    "\n",
    "But first, since doing such calculation for a matrix this huge is very computationally expensive, we need to know which Vote IDs are unique and do the calculation only for those ones."
   ]
  },
  {
   "cell_type": "code",
   "execution_count": 22,
   "metadata": {},
   "outputs": [
    {
     "data": {
      "text/plain": [
       "[104576, 75649, 86793, 68491, 26381]"
      ]
     },
     "execution_count": 22,
     "metadata": {},
     "output_type": "execute_result"
    }
   ],
   "source": [
    "# We use the union of sets, which by definition can only contain unique values, and then cast that back into a list\n",
    "# Source: http://code.activestate.com/recipes/580634-merge-unique-items-from-multiple-lists-into-a-new-/\n",
    "vote_1_uniques = votes.sentence_1.unique()\n",
    "vote_2_uniques = votes.sentence_2.unique()\n",
    "vote_ids = list(set().union(vote_1_uniques, vote_2_uniques))\n",
    "vote_ids[:5]"
   ]
  },
  {
   "cell_type": "code",
   "execution_count": 79,
   "metadata": {},
   "outputs": [
    {
     "data": {
      "text/html": [
       "<div>\n",
       "<style scoped>\n",
       "    .dataframe tbody tr th:only-of-type {\n",
       "        vertical-align: middle;\n",
       "    }\n",
       "\n",
       "    .dataframe tbody tr th {\n",
       "        vertical-align: top;\n",
       "    }\n",
       "\n",
       "    .dataframe thead th {\n",
       "        text-align: right;\n",
       "    }\n",
       "</style>\n",
       "<table border=\"1\" class=\"dataframe\">\n",
       "  <thead>\n",
       "    <tr style=\"text-align: right;\">\n",
       "      <th></th>\n",
       "      <th>sentence_id</th>\n",
       "      <th>score</th>\n",
       "    </tr>\n",
       "  </thead>\n",
       "  <tbody>\n",
       "    <tr>\n",
       "      <th>0</th>\n",
       "      <td>104576</td>\n",
       "      <td>1</td>\n",
       "    </tr>\n",
       "    <tr>\n",
       "      <th>1</th>\n",
       "      <td>75649</td>\n",
       "      <td>0</td>\n",
       "    </tr>\n",
       "    <tr>\n",
       "      <th>2</th>\n",
       "      <td>86793</td>\n",
       "      <td>0</td>\n",
       "    </tr>\n",
       "    <tr>\n",
       "      <th>3</th>\n",
       "      <td>68491</td>\n",
       "      <td>0</td>\n",
       "    </tr>\n",
       "    <tr>\n",
       "      <th>4</th>\n",
       "      <td>26381</td>\n",
       "      <td>-1</td>\n",
       "    </tr>\n",
       "    <tr>\n",
       "      <th>5</th>\n",
       "      <td>97428</td>\n",
       "      <td>0</td>\n",
       "    </tr>\n",
       "    <tr>\n",
       "      <th>6</th>\n",
       "      <td>115224</td>\n",
       "      <td>0</td>\n",
       "    </tr>\n",
       "    <tr>\n",
       "      <th>7</th>\n",
       "      <td>1437</td>\n",
       "      <td>0</td>\n",
       "    </tr>\n",
       "    <tr>\n",
       "      <th>8</th>\n",
       "      <td>61859</td>\n",
       "      <td>1</td>\n",
       "    </tr>\n",
       "    <tr>\n",
       "      <th>9</th>\n",
       "      <td>52004</td>\n",
       "      <td>0</td>\n",
       "    </tr>\n",
       "  </tbody>\n",
       "</table>\n",
       "</div>"
      ],
      "text/plain": [
       "  sentence_id score\n",
       "0      104576     1\n",
       "1       75649     0\n",
       "2       86793     0\n",
       "3       68491     0\n",
       "4       26381    -1\n",
       "5       97428     0\n",
       "6      115224     0\n",
       "7        1437     0\n",
       "8       61859     1\n",
       "9       52004     0"
      ]
     },
     "execution_count": 79,
     "metadata": {},
     "output_type": "execute_result"
    }
   ],
   "source": [
    "sentences_cols = [\"sentence_id\", \"score\"]\n",
    "sentences_scores = pd.DataFrame(columns = sentences_cols)\n",
    "sentences_scores\n",
    "\n",
    "for id in vote_ids:\n",
    "    matrix_position = id - 1\n",
    "    score = int(np.sum(conf_matrix[matrix_position]))\n",
    "    sentences_scores = sentences_scores.append(pd.Series([\n",
    "            id,\n",
    "            score\n",
    "            ],\n",
    "            index = sentences_cols), \n",
    "         ignore_index = True)\n",
    "    \n",
    "sentences_scores[:10]"
   ]
  },
  {
   "cell_type": "markdown",
   "metadata": {},
   "source": [
    "## From absolute scores to labels\n",
    "\n",
    "Let's now see the frequency distribution of our votes"
   ]
  },
  {
   "cell_type": "code",
   "execution_count": 80,
   "metadata": {},
   "outputs": [
    {
     "data": {
      "text/plain": [
       "<matplotlib.axes._subplots.AxesSubplot at 0x12304ffd0>"
      ]
     },
     "execution_count": 80,
     "metadata": {},
     "output_type": "execute_result"
    },
    {
     "data": {
      "image/png": "[encoded data removed]",
      "text/plain": [
       "<Figure size 432x288 with 1 Axes>"
      ]
     },
     "metadata": {
      "needs_background": "light"
     },
     "output_type": "display_data"
    }
   ],
   "source": [
    "fig, ax = plt.subplots()\n",
    "sentences_scores.score.value_counts().sort_index(ascending=True).plot(ax=ax, kind='bar')"
   ]
  },
  {
   "cell_type": "markdown",
   "metadata": {},
   "source": [
    "Ideally, we want our dataset to be normally distributed.\n",
    "\n",
    "Our strategy in a couple of cells is gonna be to plot a normal distributed version of our dataset and set cut points on some concrete percentiles, which will result in our labels."
   ]
  },
  {
   "cell_type": "markdown",
   "metadata": {},
   "source": [
    "### Normalize the scores"
   ]
  },
  {
   "cell_type": "code",
   "execution_count": 85,
   "metadata": {},
   "outputs": [],
   "source": [
    "x = sentences_scores[['score']].values.astype(float)\n",
    "min_max_scaler = preprocessing.MinMaxScaler()\n",
    "x_scaled = min_max_scaler.fit_transform(x)\n",
    "df_normalized = pd.DataFrame(x_scaled)"
   ]
  },
  {
   "cell_type": "code",
   "execution_count": 89,
   "metadata": {},
   "outputs": [
    {
     "data": {
      "text/html": [
       "<div>\n",
       "<style scoped>\n",
       "    .dataframe tbody tr th:only-of-type {\n",
       "        vertical-align: middle;\n",
       "    }\n",
       "\n",
       "    .dataframe tbody tr th {\n",
       "        vertical-align: top;\n",
       "    }\n",
       "\n",
       "    .dataframe thead th {\n",
       "        text-align: right;\n",
       "    }\n",
       "</style>\n",
       "<table border=\"1\" class=\"dataframe\">\n",
       "  <thead>\n",
       "    <tr style=\"text-align: right;\">\n",
       "      <th></th>\n",
       "      <th>sentence_id</th>\n",
       "      <th>score</th>\n",
       "      <th>score_normalized</th>\n",
       "    </tr>\n",
       "  </thead>\n",
       "  <tbody>\n",
       "    <tr>\n",
       "      <th>0</th>\n",
       "      <td>104576</td>\n",
       "      <td>1</td>\n",
       "      <td>1.0</td>\n",
       "    </tr>\n",
       "    <tr>\n",
       "      <th>1</th>\n",
       "      <td>75649</td>\n",
       "      <td>0</td>\n",
       "      <td>0.5</td>\n",
       "    </tr>\n",
       "    <tr>\n",
       "      <th>2</th>\n",
       "      <td>86793</td>\n",
       "      <td>0</td>\n",
       "      <td>0.5</td>\n",
       "    </tr>\n",
       "    <tr>\n",
       "      <th>3</th>\n",
       "      <td>68491</td>\n",
       "      <td>0</td>\n",
       "      <td>0.5</td>\n",
       "    </tr>\n",
       "    <tr>\n",
       "      <th>4</th>\n",
       "      <td>26381</td>\n",
       "      <td>-1</td>\n",
       "      <td>0.0</td>\n",
       "    </tr>\n",
       "    <tr>\n",
       "      <th>5</th>\n",
       "      <td>97428</td>\n",
       "      <td>0</td>\n",
       "      <td>0.5</td>\n",
       "    </tr>\n",
       "    <tr>\n",
       "      <th>6</th>\n",
       "      <td>115224</td>\n",
       "      <td>0</td>\n",
       "      <td>0.5</td>\n",
       "    </tr>\n",
       "    <tr>\n",
       "      <th>7</th>\n",
       "      <td>1437</td>\n",
       "      <td>0</td>\n",
       "      <td>0.5</td>\n",
       "    </tr>\n",
       "    <tr>\n",
       "      <th>8</th>\n",
       "      <td>61859</td>\n",
       "      <td>1</td>\n",
       "      <td>1.0</td>\n",
       "    </tr>\n",
       "    <tr>\n",
       "      <th>9</th>\n",
       "      <td>52004</td>\n",
       "      <td>0</td>\n",
       "      <td>0.5</td>\n",
       "    </tr>\n",
       "  </tbody>\n",
       "</table>\n",
       "</div>"
      ],
      "text/plain": [
       "  sentence_id score  score_normalized\n",
       "0      104576     1               1.0\n",
       "1       75649     0               0.5\n",
       "2       86793     0               0.5\n",
       "3       68491     0               0.5\n",
       "4       26381    -1               0.0\n",
       "5       97428     0               0.5\n",
       "6      115224     0               0.5\n",
       "7        1437     0               0.5\n",
       "8       61859     1               1.0\n",
       "9       52004     0               0.5"
      ]
     },
     "execution_count": 89,
     "metadata": {},
     "output_type": "execute_result"
    }
   ],
   "source": [
    "sentences_scores[\"score_normalized\"] = df_normalized[0]\n",
    "sentences_scores[:10]"
   ]
  },
  {
   "cell_type": "code",
   "execution_count": 90,
   "metadata": {},
   "outputs": [
    {
     "data": {
      "text/plain": [
       "<matplotlib.axes._subplots.AxesSubplot at 0x1230b3400>"
      ]
     },
     "execution_count": 90,
     "metadata": {},
     "output_type": "execute_result"
    },
    {
     "data": {
      "image/png": "[encoded data removed]",
      "text/plain": [
       "<Figure size 432x288 with 1 Axes>"
      ]
     },
     "metadata": {
      "needs_background": "light"
     },
     "output_type": "display_data"
    }
   ],
   "source": [
    "fig, ax = plt.subplots()\n",
    "sentences_scores.score_normalized.value_counts().sort_index(ascending=True).plot(ax=ax, kind='bar')"
   ]
  },
  {
   "cell_type": "markdown",
   "metadata": {},
   "source": [
    "### Apply labels to normally distributed data\n",
    "\n",
    "We now have all our scores in range [0, 1] What we're gonna do now is set percentiles to determine our labels, according to the following table:\n",
    "\n",
    "| percentile | label          |\n",
    "|------------|----------------|\n",
    "| 0.05       | very_dangerous |\n",
    "| 0.2        | dangerous      |\n",
    "| rest       | neutral        |\n",
    "| 0.8        | friendly       |\n",
    "| 0.95       | very_friendly  |"
   ]
  },
  {
   "cell_type": "code",
   "execution_count": 100,
   "metadata": {},
   "outputs": [],
   "source": [
    "labels = []\n",
    "\n",
    "for index, row in sentences_scores.iterrows():\n",
    "    score = row['score_normalized']\n",
    "    if( score <= 0.05 ):\n",
    "        label = \"very_dangerous\"\n",
    "    elif ( score > 0.5 and score <= 0.2):\n",
    "        label = \"dangerous\"\n",
    "    elif ( score > 0.2 and score <= 0.8 ):\n",
    "        label = \"neutral\"\n",
    "    elif ( score > 0.8 and score <= 0.95 ):\n",
    "        label = \"friendly\"\n",
    "    elif ( score > 0.95 ):\n",
    "        label = \"very_friendly\"\n",
    "    else:\n",
    "        label = \"unknown\"\n",
    "        \n",
    "    labels.append(label)"
   ]
  },
  {
   "cell_type": "code",
   "execution_count": 101,
   "metadata": {},
   "outputs": [
    {
     "data": {
      "text/html": [
       "<div>\n",
       "<style scoped>\n",
       "    .dataframe tbody tr th:only-of-type {\n",
       "        vertical-align: middle;\n",
       "    }\n",
       "\n",
       "    .dataframe tbody tr th {\n",
       "        vertical-align: top;\n",
       "    }\n",
       "\n",
       "    .dataframe thead th {\n",
       "        text-align: right;\n",
       "    }\n",
       "</style>\n",
       "<table border=\"1\" class=\"dataframe\">\n",
       "  <thead>\n",
       "    <tr style=\"text-align: right;\">\n",
       "      <th></th>\n",
       "      <th>sentence_id</th>\n",
       "      <th>score</th>\n",
       "      <th>score_normalized</th>\n",
       "      <th>labels</th>\n",
       "      <th>label</th>\n",
       "    </tr>\n",
       "  </thead>\n",
       "  <tbody>\n",
       "    <tr>\n",
       "      <th>0</th>\n",
       "      <td>104576</td>\n",
       "      <td>1</td>\n",
       "      <td>1.0</td>\n",
       "      <td>very_friendly</td>\n",
       "      <td>very_friendly</td>\n",
       "    </tr>\n",
       "    <tr>\n",
       "      <th>1</th>\n",
       "      <td>75649</td>\n",
       "      <td>0</td>\n",
       "      <td>0.5</td>\n",
       "      <td>neutral</td>\n",
       "      <td>neutral</td>\n",
       "    </tr>\n",
       "    <tr>\n",
       "      <th>2</th>\n",
       "      <td>86793</td>\n",
       "      <td>0</td>\n",
       "      <td>0.5</td>\n",
       "      <td>neutral</td>\n",
       "      <td>neutral</td>\n",
       "    </tr>\n",
       "    <tr>\n",
       "      <th>3</th>\n",
       "      <td>68491</td>\n",
       "      <td>0</td>\n",
       "      <td>0.5</td>\n",
       "      <td>neutral</td>\n",
       "      <td>neutral</td>\n",
       "    </tr>\n",
       "    <tr>\n",
       "      <th>4</th>\n",
       "      <td>26381</td>\n",
       "      <td>-1</td>\n",
       "      <td>0.0</td>\n",
       "      <td>very_dangerous</td>\n",
       "      <td>very_dangerous</td>\n",
       "    </tr>\n",
       "    <tr>\n",
       "      <th>5</th>\n",
       "      <td>97428</td>\n",
       "      <td>0</td>\n",
       "      <td>0.5</td>\n",
       "      <td>neutral</td>\n",
       "      <td>neutral</td>\n",
       "    </tr>\n",
       "    <tr>\n",
       "      <th>6</th>\n",
       "      <td>115224</td>\n",
       "      <td>0</td>\n",
       "      <td>0.5</td>\n",
       "      <td>neutral</td>\n",
       "      <td>neutral</td>\n",
       "    </tr>\n",
       "    <tr>\n",
       "      <th>7</th>\n",
       "      <td>1437</td>\n",
       "      <td>0</td>\n",
       "      <td>0.5</td>\n",
       "      <td>neutral</td>\n",
       "      <td>neutral</td>\n",
       "    </tr>\n",
       "    <tr>\n",
       "      <th>8</th>\n",
       "      <td>61859</td>\n",
       "      <td>1</td>\n",
       "      <td>1.0</td>\n",
       "      <td>very_friendly</td>\n",
       "      <td>very_friendly</td>\n",
       "    </tr>\n",
       "    <tr>\n",
       "      <th>9</th>\n",
       "      <td>52004</td>\n",
       "      <td>0</td>\n",
       "      <td>0.5</td>\n",
       "      <td>neutral</td>\n",
       "      <td>neutral</td>\n",
       "    </tr>\n",
       "  </tbody>\n",
       "</table>\n",
       "</div>"
      ],
      "text/plain": [
       "  sentence_id score  score_normalized          labels           label\n",
       "0      104576     1               1.0   very_friendly   very_friendly\n",
       "1       75649     0               0.5         neutral         neutral\n",
       "2       86793     0               0.5         neutral         neutral\n",
       "3       68491     0               0.5         neutral         neutral\n",
       "4       26381    -1               0.0  very_dangerous  very_dangerous\n",
       "5       97428     0               0.5         neutral         neutral\n",
       "6      115224     0               0.5         neutral         neutral\n",
       "7        1437     0               0.5         neutral         neutral\n",
       "8       61859     1               1.0   very_friendly   very_friendly\n",
       "9       52004     0               0.5         neutral         neutral"
      ]
     },
     "execution_count": 101,
     "metadata": {},
     "output_type": "execute_result"
    }
   ],
   "source": [
    "sentences_scores[\"label\"] = labels\n",
    "sentences_scores[:10]"
   ]
  },
  {
   "cell_type": "markdown",
   "metadata": {},
   "source": [
    "## From labels to our labeled training dataset\n",
    "\n",
    "We're almost ready. We now have our labels, let's build a proper training dataset we can later use to train our neural network and save it as Pickle and .csv for convenience."
   ]
  },
  {
   "cell_type": "code",
   "execution_count": 107,
   "metadata": {},
   "outputs": [
    {
     "data": {
      "text/html": [
       "<div>\n",
       "<style scoped>\n",
       "    .dataframe tbody tr th:only-of-type {\n",
       "        vertical-align: middle;\n",
       "    }\n",
       "\n",
       "    .dataframe tbody tr th {\n",
       "        vertical-align: top;\n",
       "    }\n",
       "\n",
       "    .dataframe thead th {\n",
       "        text-align: right;\n",
       "    }\n",
       "</style>\n",
       "<table border=\"1\" class=\"dataframe\">\n",
       "  <thead>\n",
       "    <tr style=\"text-align: right;\">\n",
       "      <th></th>\n",
       "      <th>sentence</th>\n",
       "      <th>label</th>\n",
       "    </tr>\n",
       "  </thead>\n",
       "  <tbody>\n",
       "    <tr>\n",
       "      <th>0</th>\n",
       "      <td>California Residents How Do You Access and Upd...</td>\n",
       "      <td>very_friendly</td>\n",
       "    </tr>\n",
       "    <tr>\n",
       "      <th>1</th>\n",
       "      <td>Invitation recipients have the right to revoke...</td>\n",
       "      <td>neutral</td>\n",
       "    </tr>\n",
       "    <tr>\n",
       "      <th>2</th>\n",
       "      <td>If the person is under the legal age to enter ...</td>\n",
       "      <td>neutral</td>\n",
       "    </tr>\n",
       "    <tr>\n",
       "      <th>3</th>\n",
       "      <td>Clienteling: Customers who have a one-to-one r...</td>\n",
       "      <td>neutral</td>\n",
       "    </tr>\n",
       "    <tr>\n",
       "      <th>4</th>\n",
       "      <td>100% complete security does not presently exis...</td>\n",
       "      <td>very_dangerous</td>\n",
       "    </tr>\n",
       "    <tr>\n",
       "      <th>5</th>\n",
       "      <td>We do NOT provide your Location data for adver...</td>\n",
       "      <td>neutral</td>\n",
       "    </tr>\n",
       "    <tr>\n",
       "      <th>6</th>\n",
       "      <td>For example, we use a combination of firewalls...</td>\n",
       "      <td>neutral</td>\n",
       "    </tr>\n",
       "    <tr>\n",
       "      <th>7</th>\n",
       "      <td>Finally, we never use or share the personally ...</td>\n",
       "      <td>neutral</td>\n",
       "    </tr>\n",
       "    <tr>\n",
       "      <th>8</th>\n",
       "      <td>This Notice of Privacy Practices explains:  Th...</td>\n",
       "      <td>very_friendly</td>\n",
       "    </tr>\n",
       "    <tr>\n",
       "      <th>9</th>\n",
       "      <td>Inquiries may be forwarded to the appropriate ...</td>\n",
       "      <td>neutral</td>\n",
       "    </tr>\n",
       "  </tbody>\n",
       "</table>\n",
       "</div>"
      ],
      "text/plain": [
       "                                            sentence           label\n",
       "0  California Residents How Do You Access and Upd...   very_friendly\n",
       "1  Invitation recipients have the right to revoke...         neutral\n",
       "2  If the person is under the legal age to enter ...         neutral\n",
       "3  Clienteling: Customers who have a one-to-one r...         neutral\n",
       "4  100% complete security does not presently exis...  very_dangerous\n",
       "5  We do NOT provide your Location data for adver...         neutral\n",
       "6  For example, we use a combination of firewalls...         neutral\n",
       "7  Finally, we never use or share the personally ...         neutral\n",
       "8  This Notice of Privacy Practices explains:  Th...   very_friendly\n",
       "9  Inquiries may be forwarded to the appropriate ...         neutral"
      ]
     },
     "execution_count": 107,
     "metadata": {},
     "output_type": "execute_result"
    }
   ],
   "source": [
    "labeled_sentences_cols = [\"sentence\", \"label\"]\n",
    "labeled_sentences = pd.DataFrame(columns = labeled_sentences_cols)\n",
    "labeled_sentences\n",
    "\n",
    "for index, row in sentences_scores.iterrows():\n",
    "    sentence_id = row['sentence_id'] - 1\n",
    "    sentence = sentences.iloc[sentence_id].text\n",
    "    label = row['label']\n",
    "    \n",
    "    labeled_sentences = labeled_sentences.append(pd.Series([\n",
    "            sentence,\n",
    "            label\n",
    "            ],\n",
    "            index = labeled_sentences_cols), \n",
    "         ignore_index = True)\n",
    "    \n",
    "labeled_sentences[:10]"
   ]
  },
  {
   "cell_type": "code",
   "execution_count": 116,
   "metadata": {},
   "outputs": [
    {
     "data": {
      "text/html": [
       "<div>\n",
       "<style scoped>\n",
       "    .dataframe tbody tr th:only-of-type {\n",
       "        vertical-align: middle;\n",
       "    }\n",
       "\n",
       "    .dataframe tbody tr th {\n",
       "        vertical-align: top;\n",
       "    }\n",
       "\n",
       "    .dataframe thead th {\n",
       "        text-align: right;\n",
       "    }\n",
       "</style>\n",
       "<table border=\"1\" class=\"dataframe\">\n",
       "  <thead>\n",
       "    <tr style=\"text-align: right;\">\n",
       "      <th></th>\n",
       "      <th>sentence</th>\n",
       "      <th>label</th>\n",
       "    </tr>\n",
       "  </thead>\n",
       "  <tbody>\n",
       "    <tr>\n",
       "      <th>count</th>\n",
       "      <td>44</td>\n",
       "      <td>44</td>\n",
       "    </tr>\n",
       "    <tr>\n",
       "      <th>unique</th>\n",
       "      <td>44</td>\n",
       "      <td>3</td>\n",
       "    </tr>\n",
       "    <tr>\n",
       "      <th>top</th>\n",
       "      <td>Nonaffiliates we share with can include financ...</td>\n",
       "      <td>neutral</td>\n",
       "    </tr>\n",
       "    <tr>\n",
       "      <th>freq</th>\n",
       "      <td>1</td>\n",
       "      <td>22</td>\n",
       "    </tr>\n",
       "  </tbody>\n",
       "</table>\n",
       "</div>"
      ],
      "text/plain": [
       "                                                 sentence    label\n",
       "count                                                  44       44\n",
       "unique                                                 44        3\n",
       "top     Nonaffiliates we share with can include financ...  neutral\n",
       "freq                                                    1       22"
      ]
     },
     "execution_count": 116,
     "metadata": {},
     "output_type": "execute_result"
    }
   ],
   "source": [
    "labeled_sentences.describe()"
   ]
  },
  {
   "cell_type": "code",
   "execution_count": 117,
   "metadata": {},
   "outputs": [],
   "source": [
    "labeled_sentences.to_pickle(\"data/labeled_sentences_corpus.pkl\")"
   ]
  },
  {
   "cell_type": "code",
   "execution_count": 118,
   "metadata": {},
   "outputs": [],
   "source": [
    "labeled_sentences.to_csv(\"data/labeled_sentences_corpus.csv\")"
   ]
  }
 ],
 "metadata": {
  "kernelspec": {
   "display_name": "Python 3",
   "language": "python",
   "name": "python3"
  },
  "language_info": {
   "codemirror_mode": {
    "name": "ipython",
    "version": 3
   },
   "file_extension": ".py",
   "mimetype": "text/x-python",
   "name": "python",
   "nbconvert_exporter": "python",
   "pygments_lexer": "ipython3",
   "version": "3.7.2"
  }
 },
 "nbformat": 4,
 "nbformat_minor": 2
}
