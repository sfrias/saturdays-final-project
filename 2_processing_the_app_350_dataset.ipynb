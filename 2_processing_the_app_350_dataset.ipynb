{
 "cells": [
  {
   "cell_type": "code",
   "execution_count": 57,
   "metadata": {},
   "outputs": [],
   "source": [
    "import pandas as pd\n",
    "import yaml\n",
    "import glob, os"
   ]
  },
  {
   "cell_type": "code",
   "execution_count": 58,
   "metadata": {},
   "outputs": [
    {
     "data": {
      "text/html": [
       "<div>\n",
       "<style scoped>\n",
       "    .dataframe tbody tr th:only-of-type {\n",
       "        vertical-align: middle;\n",
       "    }\n",
       "\n",
       "    .dataframe tbody tr th {\n",
       "        vertical-align: top;\n",
       "    }\n",
       "\n",
       "    .dataframe thead th {\n",
       "        text-align: right;\n",
       "    }\n",
       "</style>\n",
       "<table border=\"1\" class=\"dataframe\">\n",
       "  <thead>\n",
       "    <tr style=\"text-align: right;\">\n",
       "      <th></th>\n",
       "      <th>policy_id</th>\n",
       "      <th>policy_name</th>\n",
       "      <th>contains_synthetic</th>\n",
       "      <th>policy</th>\n",
       "      <th>policy_type</th>\n",
       "    </tr>\n",
       "  </thead>\n",
       "  <tbody>\n",
       "  </tbody>\n",
       "</table>\n",
       "</div>"
      ],
      "text/plain": [
       "Empty DataFrame\n",
       "Columns: [policy_id, policy_name, contains_synthetic, policy, policy_type]\n",
       "Index: []"
      ]
     },
     "execution_count": 58,
     "metadata": {},
     "output_type": "execute_result"
    }
   ],
   "source": [
    "df_cols = [\"policy_id\", \"policy_name\", \"contains_synthetic\", \"policy\", \"policy_type\"]\n",
    "policies_df = pd.DataFrame(columns = df_cols)\n",
    "policies_df"
   ]
  },
  {
   "cell_type": "code",
   "execution_count": 59,
   "metadata": {},
   "outputs": [],
   "source": [
    "for policy in glob.glob(\"data/APP-350_v1.0/annotations/*.yml\"):\n",
    "    with open(policy, 'r') as f:\n",
    "        yaml_policy = yaml.load(f)\n",
    "        policy_text = \"\"\n",
    "        for segment in yaml_policy[\"segments\"]:\n",
    "            policy_text += segment[\"segment_text\"]\n",
    "        policies_df = policies_df.append(pd.Series([\n",
    "            yaml_policy[\"policy_id\"],\n",
    "            yaml_policy[\"policy_name\"],\n",
    "            yaml_policy[\"contains_synthetic\"],\n",
    "            policy_text,\n",
    "            yaml_policy[\"policy_type\"]\n",
    "            ], \n",
    "         index = df_cols), \n",
    "         ignore_index = True)"
   ]
  },
  {
   "cell_type": "code",
   "execution_count": 65,
   "metadata": {},
   "outputs": [
    {
     "data": {
      "text/html": [
       "<div>\n",
       "<style scoped>\n",
       "    .dataframe tbody tr th:only-of-type {\n",
       "        vertical-align: middle;\n",
       "    }\n",
       "\n",
       "    .dataframe tbody tr th {\n",
       "        vertical-align: top;\n",
       "    }\n",
       "\n",
       "    .dataframe thead th {\n",
       "        text-align: right;\n",
       "    }\n",
       "</style>\n",
       "<table border=\"1\" class=\"dataframe\">\n",
       "  <thead>\n",
       "    <tr style=\"text-align: right;\">\n",
       "      <th></th>\n",
       "      <th>policy_id</th>\n",
       "      <th>policy_name</th>\n",
       "      <th>contains_synthetic</th>\n",
       "      <th>policy</th>\n",
       "      <th>policy_type</th>\n",
       "    </tr>\n",
       "  </thead>\n",
       "  <tbody>\n",
       "    <tr>\n",
       "      <th>0</th>\n",
       "      <td>331</td>\n",
       "      <td>TurboCleaner</td>\n",
       "      <td>True</td>\n",
       "      <td>Privacy Policy - Turboc Cleaner Last Updated: ...</td>\n",
       "      <td>TRAINING</td>\n",
       "    </tr>\n",
       "    <tr>\n",
       "      <th>1</th>\n",
       "      <td>325</td>\n",
       "      <td>Tinder</td>\n",
       "      <td>True</td>\n",
       "      <td>TINDER, INC. PRIVACY POLICY Last Updated: 1/30...</td>\n",
       "      <td>VALIDATION</td>\n",
       "    </tr>\n",
       "    <tr>\n",
       "      <th>2</th>\n",
       "      <td>319</td>\n",
       "      <td>Sygic</td>\n",
       "      <td>True</td>\n",
       "      <td>Pricing English Menu GPS Navigation Car Naviga...</td>\n",
       "      <td>TRAINING</td>\n",
       "    </tr>\n",
       "  </tbody>\n",
       "</table>\n",
       "</div>"
      ],
      "text/plain": [
       "  policy_id   policy_name contains_synthetic  \\\n",
       "0       331  TurboCleaner               True   \n",
       "1       325        Tinder               True   \n",
       "2       319         Sygic               True   \n",
       "\n",
       "                                              policy policy_type  \n",
       "0  Privacy Policy - Turboc Cleaner Last Updated: ...    TRAINING  \n",
       "1  TINDER, INC. PRIVACY POLICY Last Updated: 1/30...  VALIDATION  \n",
       "2  Pricing English Menu GPS Navigation Car Naviga...    TRAINING  "
      ]
     },
     "execution_count": 65,
     "metadata": {},
     "output_type": "execute_result"
    }
   ],
   "source": [
    "policies_df[:3]"
   ]
  },
  {
   "cell_type": "code",
   "execution_count": 66,
   "metadata": {},
   "outputs": [],
   "source": [
    "policies_df.to_pickle(\"app_350.pkl\")"
   ]
  }
 ],
 "metadata": {
  "kernelspec": {
   "display_name": "Python 3",
   "language": "python",
   "name": "python3"
  },
  "language_info": {
   "codemirror_mode": {
    "name": "ipython",
    "version": 3
   },
   "file_extension": ".py",
   "mimetype": "text/x-python",
   "name": "python",
   "nbconvert_exporter": "python",
   "pygments_lexer": "ipython3",
   "version": "3.7.2"
  }
 },
 "nbformat": 4,
 "nbformat_minor": 2
}
